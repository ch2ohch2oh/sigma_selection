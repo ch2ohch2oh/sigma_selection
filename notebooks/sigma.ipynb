{
 "cells": [
  {
   "cell_type": "markdown",
   "metadata": {},
   "source": [
    "# $\\Sigma^+$ reconstruction"
   ]
  },
  {
   "cell_type": "code",
   "execution_count": 199,
   "metadata": {},
   "outputs": [],
   "source": [
    "from root_pandas import read_root\n",
    "import matplotlib.pyplot as plt\n",
    "import numpy as np\n",
    "import pandas as pd\n",
    "import pdg\n",
    "import seaborn as sns"
   ]
  },
  {
   "cell_type": "code",
   "execution_count": 200,
   "metadata": {},
   "outputs": [],
   "source": [
    "plt.rc('figure', figsize = (8, 6))\n",
    "plt.rc('font', size = 13)\n",
    "plt.rc('hist', bins = 200)"
   ]
  },
  {
   "cell_type": "code",
   "execution_count": 201,
   "metadata": {},
   "outputs": [],
   "source": [
    "root_file = '../data/sigma_ipconstraint_only.root'\n",
    "#columns = ['M', 'pi0_M', 'isSignal', 'p_d0', 'p_z0', 'pi0_p', 'p', 'dr', 'dz', 'pi0_isSignal', 'chiProb']\n",
    "sigma = read_root(root_file, 'sigma')"
   ]
  },
  {
   "cell_type": "code",
   "execution_count": 202,
   "metadata": {},
   "outputs": [
    {
     "data": {
      "text/html": [
       "<div>\n",
       "<style scoped>\n",
       "    .dataframe tbody tr th:only-of-type {\n",
       "        vertical-align: middle;\n",
       "    }\n",
       "\n",
       "    .dataframe tbody tr th {\n",
       "        vertical-align: top;\n",
       "    }\n",
       "\n",
       "    .dataframe thead th {\n",
       "        text-align: right;\n",
       "    }\n",
       "</style>\n",
       "<table border=\"1\" class=\"dataframe\">\n",
       "  <thead>\n",
       "    <tr style=\"text-align: right;\">\n",
       "      <th></th>\n",
       "      <th>__experiment__</th>\n",
       "      <th>__run__</th>\n",
       "      <th>__event__</th>\n",
       "      <th>__candidate__</th>\n",
       "      <th>__ncandidates__</th>\n",
       "      <th>__weight__</th>\n",
       "      <th>M</th>\n",
       "      <th>ErrM</th>\n",
       "      <th>px</th>\n",
       "      <th>py</th>\n",
       "      <th>...</th>\n",
       "      <th>pi0_cosaXY</th>\n",
       "      <th>pi0_isSignal</th>\n",
       "      <th>pi0_isPrimarySignal</th>\n",
       "      <th>pi0_mcErrors</th>\n",
       "      <th>pi0_mcPDG</th>\n",
       "      <th>pi0_genMotherID</th>\n",
       "      <th>pi0_genMotherP</th>\n",
       "      <th>pi0_genMotherPDG</th>\n",
       "      <th>pi0_genParticleID</th>\n",
       "      <th>pi0_nMCMatches</th>\n",
       "    </tr>\n",
       "  </thead>\n",
       "  <tbody>\n",
       "    <tr>\n",
       "      <th>0</th>\n",
       "      <td>55</td>\n",
       "      <td>7</td>\n",
       "      <td>5</td>\n",
       "      <td>0</td>\n",
       "      <td>2</td>\n",
       "      <td>1.0</td>\n",
       "      <td>1.160894</td>\n",
       "      <td>0.005906</td>\n",
       "      <td>-0.074190</td>\n",
       "      <td>-0.367688</td>\n",
       "      <td>...</td>\n",
       "      <td>-0.154270</td>\n",
       "      <td>0.0</td>\n",
       "      <td>0.0</td>\n",
       "      <td>314.0</td>\n",
       "      <td>521.0</td>\n",
       "      <td>0.0</td>\n",
       "      <td>4.493528</td>\n",
       "      <td>300553.0</td>\n",
       "      <td>1.0</td>\n",
       "      <td>1.0</td>\n",
       "    </tr>\n",
       "    <tr>\n",
       "      <th>1</th>\n",
       "      <td>55</td>\n",
       "      <td>7</td>\n",
       "      <td>5</td>\n",
       "      <td>1</td>\n",
       "      <td>2</td>\n",
       "      <td>1.0</td>\n",
       "      <td>1.214163</td>\n",
       "      <td>0.004925</td>\n",
       "      <td>0.140547</td>\n",
       "      <td>-0.232167</td>\n",
       "      <td>...</td>\n",
       "      <td>-0.626118</td>\n",
       "      <td>0.0</td>\n",
       "      <td>0.0</td>\n",
       "      <td>314.0</td>\n",
       "      <td>-20423.0</td>\n",
       "      <td>1.0</td>\n",
       "      <td>2.204960</td>\n",
       "      <td>521.0</td>\n",
       "      <td>3.0</td>\n",
       "      <td>1.0</td>\n",
       "    </tr>\n",
       "    <tr>\n",
       "      <th>2</th>\n",
       "      <td>55</td>\n",
       "      <td>7</td>\n",
       "      <td>12</td>\n",
       "      <td>0</td>\n",
       "      <td>11</td>\n",
       "      <td>1.0</td>\n",
       "      <td>1.173191</td>\n",
       "      <td>0.004075</td>\n",
       "      <td>-0.047953</td>\n",
       "      <td>-0.503534</td>\n",
       "      <td>...</td>\n",
       "      <td>0.999997</td>\n",
       "      <td>0.0</td>\n",
       "      <td>0.0</td>\n",
       "      <td>512.0</td>\n",
       "      <td>0.0</td>\n",
       "      <td>0.0</td>\n",
       "      <td>0.000000</td>\n",
       "      <td>0.0</td>\n",
       "      <td>-1.0</td>\n",
       "      <td>0.0</td>\n",
       "    </tr>\n",
       "    <tr>\n",
       "      <th>3</th>\n",
       "      <td>55</td>\n",
       "      <td>7</td>\n",
       "      <td>12</td>\n",
       "      <td>1</td>\n",
       "      <td>11</td>\n",
       "      <td>1.0</td>\n",
       "      <td>1.181076</td>\n",
       "      <td>0.003040</td>\n",
       "      <td>-0.029280</td>\n",
       "      <td>-0.556195</td>\n",
       "      <td>...</td>\n",
       "      <td>0.917236</td>\n",
       "      <td>0.0</td>\n",
       "      <td>0.0</td>\n",
       "      <td>498.0</td>\n",
       "      <td>300553.0</td>\n",
       "      <td>0.0</td>\n",
       "      <td>0.000000</td>\n",
       "      <td>0.0</td>\n",
       "      <td>0.0</td>\n",
       "      <td>1.0</td>\n",
       "    </tr>\n",
       "    <tr>\n",
       "      <th>4</th>\n",
       "      <td>55</td>\n",
       "      <td>7</td>\n",
       "      <td>12</td>\n",
       "      <td>2</td>\n",
       "      <td>11</td>\n",
       "      <td>1.0</td>\n",
       "      <td>1.234971</td>\n",
       "      <td>0.003399</td>\n",
       "      <td>0.016056</td>\n",
       "      <td>-0.490211</td>\n",
       "      <td>...</td>\n",
       "      <td>0.819244</td>\n",
       "      <td>0.0</td>\n",
       "      <td>0.0</td>\n",
       "      <td>498.0</td>\n",
       "      <td>300553.0</td>\n",
       "      <td>0.0</td>\n",
       "      <td>0.000000</td>\n",
       "      <td>0.0</td>\n",
       "      <td>0.0</td>\n",
       "      <td>1.0</td>\n",
       "    </tr>\n",
       "  </tbody>\n",
       "</table>\n",
       "<p>5 rows × 132 columns</p>\n",
       "</div>"
      ],
      "text/plain": [
       "   __experiment__  __run__  __event__  __candidate__  __ncandidates__  \\\n",
       "0              55        7          5              0                2   \n",
       "1              55        7          5              1                2   \n",
       "2              55        7         12              0               11   \n",
       "3              55        7         12              1               11   \n",
       "4              55        7         12              2               11   \n",
       "\n",
       "   __weight__         M      ErrM        px        py       ...        \\\n",
       "0         1.0  1.160894  0.005906 -0.074190 -0.367688       ...         \n",
       "1         1.0  1.214163  0.004925  0.140547 -0.232167       ...         \n",
       "2         1.0  1.173191  0.004075 -0.047953 -0.503534       ...         \n",
       "3         1.0  1.181076  0.003040 -0.029280 -0.556195       ...         \n",
       "4         1.0  1.234971  0.003399  0.016056 -0.490211       ...         \n",
       "\n",
       "   pi0_cosaXY  pi0_isSignal  pi0_isPrimarySignal  pi0_mcErrors  pi0_mcPDG  \\\n",
       "0   -0.154270           0.0                  0.0         314.0      521.0   \n",
       "1   -0.626118           0.0                  0.0         314.0   -20423.0   \n",
       "2    0.999997           0.0                  0.0         512.0        0.0   \n",
       "3    0.917236           0.0                  0.0         498.0   300553.0   \n",
       "4    0.819244           0.0                  0.0         498.0   300553.0   \n",
       "\n",
       "   pi0_genMotherID  pi0_genMotherP  pi0_genMotherPDG  pi0_genParticleID  \\\n",
       "0              0.0        4.493528          300553.0                1.0   \n",
       "1              1.0        2.204960             521.0                3.0   \n",
       "2              0.0        0.000000               0.0               -1.0   \n",
       "3              0.0        0.000000               0.0                0.0   \n",
       "4              0.0        0.000000               0.0                0.0   \n",
       "\n",
       "   pi0_nMCMatches  \n",
       "0             1.0  \n",
       "1             1.0  \n",
       "2             0.0  \n",
       "3             1.0  \n",
       "4             1.0  \n",
       "\n",
       "[5 rows x 132 columns]"
      ]
     },
     "execution_count": 202,
     "metadata": {},
     "output_type": "execute_result"
    }
   ],
   "source": [
    "sigma.head()"
   ]
  },
  {
   "cell_type": "code",
   "execution_count": 203,
   "metadata": {},
   "outputs": [
    {
     "data": {
      "text/plain": [
       "5760542"
      ]
     },
     "execution_count": 203,
     "metadata": {},
     "output_type": "execute_result"
    }
   ],
   "source": [
    "len(sigma)"
   ]
  },
  {
   "cell_type": "code",
   "execution_count": 204,
   "metadata": {},
   "outputs": [
    {
     "data": {
      "text/html": [
       "<div>\n",
       "<style scoped>\n",
       "    .dataframe tbody tr th:only-of-type {\n",
       "        vertical-align: middle;\n",
       "    }\n",
       "\n",
       "    .dataframe tbody tr th {\n",
       "        vertical-align: top;\n",
       "    }\n",
       "\n",
       "    .dataframe thead th {\n",
       "        text-align: right;\n",
       "    }\n",
       "</style>\n",
       "<table border=\"1\" class=\"dataframe\">\n",
       "  <thead>\n",
       "    <tr style=\"text-align: right;\">\n",
       "      <th></th>\n",
       "      <th>__experiment__</th>\n",
       "      <th>__run__</th>\n",
       "      <th>__event__</th>\n",
       "    </tr>\n",
       "  </thead>\n",
       "  <tbody>\n",
       "    <tr>\n",
       "      <th>0</th>\n",
       "      <td>55</td>\n",
       "      <td>7</td>\n",
       "      <td>5</td>\n",
       "    </tr>\n",
       "    <tr>\n",
       "      <th>2</th>\n",
       "      <td>55</td>\n",
       "      <td>7</td>\n",
       "      <td>12</td>\n",
       "    </tr>\n",
       "    <tr>\n",
       "      <th>13</th>\n",
       "      <td>55</td>\n",
       "      <td>7</td>\n",
       "      <td>14</td>\n",
       "    </tr>\n",
       "    <tr>\n",
       "      <th>14</th>\n",
       "      <td>55</td>\n",
       "      <td>7</td>\n",
       "      <td>13</td>\n",
       "    </tr>\n",
       "    <tr>\n",
       "      <th>15</th>\n",
       "      <td>55</td>\n",
       "      <td>7</td>\n",
       "      <td>19</td>\n",
       "    </tr>\n",
       "  </tbody>\n",
       "</table>\n",
       "</div>"
      ],
      "text/plain": [
       "    __experiment__  __run__  __event__\n",
       "0               55        7          5\n",
       "2               55        7         12\n",
       "13              55        7         14\n",
       "14              55        7         13\n",
       "15              55        7         19"
      ]
     },
     "execution_count": 204,
     "metadata": {},
     "output_type": "execute_result"
    }
   ],
   "source": [
    "unique_events = sigma[['__experiment__', '__run__', '__event__']].drop_duplicates()\n",
    "unique_events.head()"
   ]
  },
  {
   "cell_type": "code",
   "execution_count": 205,
   "metadata": {},
   "outputs": [
    {
     "data": {
      "text/plain": [
       "1096565"
      ]
     },
     "execution_count": 205,
     "metadata": {},
     "output_type": "execute_result"
    }
   ],
   "source": [
    "len(unique_events)"
   ]
  },
  {
   "cell_type": "code",
   "execution_count": 206,
   "metadata": {},
   "outputs": [
    {
     "data": {
      "text/plain": [
       "count    1.096565e+06\n",
       "mean     4.319629e+00\n",
       "std      4.290834e+00\n",
       "min      1.000000e+00\n",
       "25%      2.000000e+00\n",
       "50%      3.000000e+00\n",
       "75%      6.000000e+00\n",
       "max      1.450000e+02\n",
       "Name: __ncandidates__, dtype: float64"
      ]
     },
     "execution_count": 206,
     "metadata": {},
     "output_type": "execute_result"
    }
   ],
   "source": [
    "sigma.iloc[unique_events.index].__ncandidates__.describe()"
   ]
  },
  {
   "cell_type": "code",
   "execution_count": 207,
   "metadata": {},
   "outputs": [
    {
     "data": {
      "image/png": "[encoded data removed]",
      "text/plain": [
       "<Figure size 576x432 with 1 Axes>"
      ]
     },
     "metadata": {
      "needs_background": "light"
     },
     "output_type": "display_data"
    }
   ],
   "source": [
    "plt.hist(sigma.iloc[unique_events.index].__ncandidates__, bins = range(0, 25), histtype = 'step')\n",
    "plt.title('Number of Simga+ candidates per event')\n",
    "plt.show()"
   ]
  },
  {
   "cell_type": "markdown",
   "metadata": {},
   "source": [
    "## $\\Sigma^+$ and $\\pi^0$ mass distribution"
   ]
  },
  {
   "cell_type": "code",
   "execution_count": 208,
   "metadata": {},
   "outputs": [
    {
     "data": {
      "text/plain": [
       "<Particle \"Sigma+\" mass=1.18937 width=0 charge=1 pdg=3222>"
      ]
     },
     "execution_count": 208,
     "metadata": {},
     "output_type": "execute_result"
    }
   ],
   "source": [
    "pdg.get('Sigma+')"
   ]
  },
  {
   "cell_type": "code",
   "execution_count": 221,
   "metadata": {},
   "outputs": [
    {
     "data": {
      "image/png": "[encoded data removed]",
      "text/plain": [
       "<Figure size 576x432 with 1 Axes>"
      ]
     },
     "metadata": {
      "needs_background": "light"
     },
     "output_type": "display_data"
    }
   ],
   "source": [
    "plt.hist(sigma.M, range = [1, 1.4], histtype = 'step', label = 'all')\n",
    "plt.hist(sigma[sigma.isSignal == 1].M, range = [1, 1.4], histtype = 'step', label = '$\\Sigma^+$ matched')\n",
    "plt.axvline(x = 1.18937, color = 'red', linestyle = '--')\n",
    "plt.legend()\n",
    "plt.xlabel('Mass (GeV)')\n",
    "plt.title('$\\Sigma^+$ mass')\n",
    "plt.show()"
   ]
  },
  {
   "cell_type": "code",
   "execution_count": 210,
   "metadata": {},
   "outputs": [
    {
     "data": {
      "text/plain": [
       "<Particle \"pi0\" mass=0.134977 width=0 charge=0 pdg=111>"
      ]
     },
     "execution_count": 210,
     "metadata": {},
     "output_type": "execute_result"
    }
   ],
   "source": [
    "pdg.get('pi0')"
   ]
  },
  {
   "cell_type": "code",
   "execution_count": 220,
   "metadata": {},
   "outputs": [
    {
     "data": {
      "image/png": "[encoded data removed]",
      "text/plain": [
       "<Figure size 576x432 with 1 Axes>"
      ]
     },
     "metadata": {
      "needs_background": "light"
     },
     "output_type": "display_data"
    }
   ],
   "source": [
    "plt.hist(sigma.pi0_M, range = [.12, .15], histtype = 'step', label = 'all')\n",
    "plt.hist(sigma[sigma.pi0_isSignal == 1].pi0_M, range = [.12, .15], histtype = 'step', label = '$\\pi^0$ matched')\n",
    "plt.axvline(x = 0.134977, color = 'red', linestyle = '--')\n",
    "plt.legend()\n",
    "plt.xlabel('Mass (GeV)')\n",
    "plt.title('$\\pi^0$ mass')\n",
    "plt.show()"
   ]
  },
  {
   "cell_type": "markdown",
   "metadata": {},
   "source": [
    "## Vertex position of $\\Sigma^+$"
   ]
  },
  {
   "cell_type": "code",
   "execution_count": 212,
   "metadata": {},
   "outputs": [
    {
     "data": {
      "image/png": "[encoded data removed]",
      "text/plain": [
       "<Figure size 576x432 with 1 Axes>"
      ]
     },
     "metadata": {
      "needs_background": "light"
     },
     "output_type": "display_data"
    }
   ],
   "source": [
    "plt.hist(sigma.x - sigma.IPX, bins = 100, range = [-5, 5], histtype = 'step', label = 'dx')\n",
    "plt.hist(sigma.z - sigma.IPZ, bins = 100, range = [-5, 5], histtype = 'step', label = 'dz')\n",
    "plt.title('$\\Sigma^+$ vertex position relative to IP')\n",
    "plt.xlabel('Distance to IP (cm)')\n",
    "plt.legend()\n",
    "plt.show()"
   ]
  },
  {
   "cell_type": "markdown",
   "metadata": {},
   "source": [
    "## Vertex position of $\\pi^0$"
   ]
  },
  {
   "cell_type": "markdown",
   "metadata": {},
   "source": [
    "The vertex positions of $\\pi^0$ and $\\Sigma^+$ are the same as expected."
   ]
  },
  {
   "cell_type": "code",
   "execution_count": 213,
   "metadata": {},
   "outputs": [
    {
     "data": {
      "image/png": "[encoded data removed]",
      "text/plain": [
       "<Figure size 576x432 with 1 Axes>"
      ]
     },
     "metadata": {
      "needs_background": "light"
     },
     "output_type": "display_data"
    }
   ],
   "source": [
    "plt.hist(sigma.pi0_x - sigma.x, bins = 100, range = [-5, 5], histtype = 'step', label = 'dx')\n",
    "plt.hist(sigma.pi0_z - sigma.z, bins = 100, range = [-5, 5], histtype = 'step', label = 'dz')\n",
    "plt.title('$\\pi^0$ vertex position relative to $\\Sigma^+$')\n",
    "plt.xlabel('Distance (cm)')\n",
    "plt.legend()\n",
    "plt.show()"
   ]
  },
  {
   "cell_type": "markdown",
   "metadata": {},
   "source": [
    "## What are the particles reconstructed as $\\Sigma^+$?"
   ]
  },
  {
   "cell_type": "code",
   "execution_count": 214,
   "metadata": {},
   "outputs": [],
   "source": [
    "def pdg_to_names(plist):\n",
    "    import pdg\n",
    "    name_list = []\n",
    "    for part in plist:\n",
    "        try:\n",
    "            name_list += [pdg.to_name(part)]\n",
    "        except:\n",
    "            name_list += ['PDG = %d' % part]\n",
    "    return name_list\n",
    "\n",
    "def plot_particle_names(df, title = ''):\n",
    "    df = df.value_counts().nlargest(20)\n",
    "    df.index = pdg_to_names(df.index.astype('int'))\n",
    "    df.plot('barh', log = True, figsize = (8, 8))\n",
    "    plt.title(title)"
   ]
  },
  {
   "cell_type": "code",
   "execution_count": 215,
   "metadata": {},
   "outputs": [
    {
     "data": {
      "image/png": "[encoded data removed]",
      "text/plain": [
       "<Figure size 576x576 with 1 Axes>"
      ]
     },
     "metadata": {
      "needs_background": "light"
     },
     "output_type": "display_data"
    }
   ],
   "source": [
    "plot_particle_names(sigma[sigma.distance > 2].mcPDG, 'Particles matched to $\\Sigma+$')"
   ]
  },
  {
   "cell_type": "code",
   "execution_count": 216,
   "metadata": {},
   "outputs": [
    {
     "data": {
      "text/plain": [
       "<Particle \"Upsilon(4S)\" mass=10.5794 width=0.0205 charge=0 pdg=300553>"
      ]
     },
     "execution_count": 216,
     "metadata": {},
     "output_type": "execute_result"
    }
   ],
   "source": [
    "pdg.get('Upsilon(4S)')"
   ]
  },
  {
   "cell_type": "code",
   "execution_count": null,
   "metadata": {},
   "outputs": [],
   "source": []
  }
 ],
 "metadata": {
  "kernelspec": {
   "display_name": "Python 3 (Belle2)",
   "language": "python",
   "name": "python3"
  },
  "language_info": {
   "codemirror_mode": {
    "name": "ipython",
    "version": 3
   },
   "file_extension": ".py",
   "mimetype": "text/x-python",
   "name": "python",
   "nbconvert_exporter": "python",
   "pygments_lexer": "ipython3",
   "version": "3.6.6"
  }
 },
 "nbformat": 4,
 "nbformat_minor": 4
}

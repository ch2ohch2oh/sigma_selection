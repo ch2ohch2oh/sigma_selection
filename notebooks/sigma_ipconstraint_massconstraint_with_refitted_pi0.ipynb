{
 "cells": [
  {
   "cell_type": "markdown",
   "metadata": {},
   "source": [
    "# $\\Sigma^+$ reconstruction with IP constraint and mass constraint with refitted/dispalced $\\pi^0$"
   ]
  },
  {
   "cell_type": "markdown",
   "metadata": {},
   "source": [
    "## Cuts\n",
    "- PID cut on proton and keep only protons with impact parameter larger than 0.01 cm.\n",
    "- Keep only $\\Sigma^+$ in mass range 1.18 ~ 1.20 GeV.\n",
    "- IP constriant on $\\Sigma^+$ vertex.\n",
    "- Require the daughters of $\\pi^0$ to have energy greater than 50 MeV, momentum greater than 100 MeV and the mass of $\\pi^0$ within range 120 ~ 150 MeV.\n",
    "- **No mass constraint on $\\pi^0$**"
   ]
  },
  {
   "cell_type": "markdown",
   "metadata": {},
   "source": [
    "## Code snapshot\n",
    "```\n",
    "ma.fillParticleList('p+:good', 'pid_ppi > 0.6 and pid_pk > 0.6 and abs(d0) >= 0.01', path = mp)\n",
    "# Put a wide 20 MeV mass cut around the nominal mass\n",
    "sigma_mass_cut = 'M >= 1.18 and M <= 1.20'\n",
    "ma.reconstructDecay('Sigma+:all -> p+:good pi0:mdst', \n",
    "                    'M >= 1.18 and M <= 1.20', path = mp)\n",
    "ma.vertexTree('Sigma+:all', 0, ipConstraint = True, massConstraint = [],\n",
    "              updateAllDaughters = True, path = mp)\n",
    "\n",
    "# Discard the low momentum pi0s as in the Belle note  \n",
    "ma.cutAndCopyList('pi0:displaced', 'pi0:mdst', 'daughter(0, E) >= 0.04 and daughter(1, E) >= 0.04 and p >= 0.1 and M >= 0.12 and M <= 0.15', path = mp)\n",
    "\n",
    "# Refit Sigma+ with displaced pi0\n",
    "ma.reconstructDecay('Sigma+:updated -> p+:good pi0:displaced', '', path = mp)\n",
    "ma.vertexTree('Sigma+:updated', 0, ipConstraint = True, massConstraint = [], path = mp)\n",
    "# ma.matchMCTruth('Sigma+:all', path = mp)\n",
    "ma.matchMCTruth('Sigma+:updated')\n",
    "```"
   ]
  },
  {
   "cell_type": "code",
   "execution_count": 98,
   "metadata": {},
   "outputs": [],
   "source": [
    "from root_pandas import read_root\n",
    "import matplotlib.pyplot as plt\n",
    "import numpy as np\n",
    "import pandas as pd\n",
    "import pdg\n",
    "import seaborn as sns\n",
    "import glob"
   ]
  },
  {
   "cell_type": "code",
   "execution_count": 99,
   "metadata": {},
   "outputs": [],
   "source": [
    "plt.rc('figure', figsize = (8, 6))\n",
    "plt.rc('font', size = 13)\n",
    "plt.rc('hist', bins = 200)"
   ]
  },
  {
   "cell_type": "code",
   "execution_count": 100,
   "metadata": {},
   "outputs": [
    {
     "name": "stdout",
     "output_type": "stream",
     "text": [
      "40 root files found\n",
      "CPU times: user 3.58 s, sys: 107 ms, total: 3.68 s\n",
      "Wall time: 4.85 s\n"
     ]
    }
   ],
   "source": [
    "root_files = glob.glob('../data/sigma_ipconstraint_massconstraint_refitted/*.root')\n",
    "print(\"%d root files found\" % len(root_files))\n",
    "%time sigma = read_root(root_files, 'sigma')"
   ]
  },
  {
   "cell_type": "code",
   "execution_count": 101,
   "metadata": {},
   "outputs": [
    {
     "data": {
      "text/html": [
       "<div>\n",
       "<style scoped>\n",
       "    .dataframe tbody tr th:only-of-type {\n",
       "        vertical-align: middle;\n",
       "    }\n",
       "\n",
       "    .dataframe tbody tr th {\n",
       "        vertical-align: top;\n",
       "    }\n",
       "\n",
       "    .dataframe thead th {\n",
       "        text-align: right;\n",
       "    }\n",
       "</style>\n",
       "<table border=\"1\" class=\"dataframe\">\n",
       "  <thead>\n",
       "    <tr style=\"text-align: right;\">\n",
       "      <th></th>\n",
       "      <th>__experiment__</th>\n",
       "      <th>__run__</th>\n",
       "      <th>__event__</th>\n",
       "      <th>__candidate__</th>\n",
       "      <th>__ncandidates__</th>\n",
       "      <th>__weight__</th>\n",
       "      <th>M</th>\n",
       "      <th>ErrM</th>\n",
       "      <th>px</th>\n",
       "      <th>py</th>\n",
       "      <th>...</th>\n",
       "      <th>gamma2_p</th>\n",
       "      <th>gamma2_E</th>\n",
       "      <th>gamma2_cosTheta</th>\n",
       "      <th>gamma2_phi</th>\n",
       "      <th>gamma2_charge</th>\n",
       "      <th>gamma2_PDG</th>\n",
       "      <th>gamma2_E_uncertainty</th>\n",
       "      <th>gamma2_pxErr</th>\n",
       "      <th>gamma2_pyErr</th>\n",
       "      <th>gamma2_pzErr</th>\n",
       "    </tr>\n",
       "  </thead>\n",
       "  <tbody>\n",
       "    <tr>\n",
       "      <th>0</th>\n",
       "      <td>55</td>\n",
       "      <td>24</td>\n",
       "      <td>15</td>\n",
       "      <td>0</td>\n",
       "      <td>1</td>\n",
       "      <td>1.0</td>\n",
       "      <td>1.188481</td>\n",
       "      <td>0.002822</td>\n",
       "      <td>-0.838042</td>\n",
       "      <td>-0.153864</td>\n",
       "      <td>...</td>\n",
       "      <td>0.119057</td>\n",
       "      <td>0.179989</td>\n",
       "      <td>0.852160</td>\n",
       "      <td>1.070278</td>\n",
       "      <td>0.0</td>\n",
       "      <td>111.0</td>\n",
       "      <td>0.001608</td>\n",
       "      <td>0.001318</td>\n",
       "      <td>0.004101</td>\n",
       "      <td>0.001159</td>\n",
       "    </tr>\n",
       "    <tr>\n",
       "      <th>1</th>\n",
       "      <td>55</td>\n",
       "      <td>24</td>\n",
       "      <td>25</td>\n",
       "      <td>0</td>\n",
       "      <td>1</td>\n",
       "      <td>1.0</td>\n",
       "      <td>1.182631</td>\n",
       "      <td>0.003455</td>\n",
       "      <td>0.069550</td>\n",
       "      <td>-0.257039</td>\n",
       "      <td>...</td>\n",
       "      <td>0.171491</td>\n",
       "      <td>0.218238</td>\n",
       "      <td>0.163686</td>\n",
       "      <td>0.126749</td>\n",
       "      <td>0.0</td>\n",
       "      <td>111.0</td>\n",
       "      <td>0.003214</td>\n",
       "      <td>0.004156</td>\n",
       "      <td>0.001342</td>\n",
       "      <td>0.000968</td>\n",
       "    </tr>\n",
       "    <tr>\n",
       "      <th>2</th>\n",
       "      <td>55</td>\n",
       "      <td>24</td>\n",
       "      <td>38</td>\n",
       "      <td>0</td>\n",
       "      <td>3</td>\n",
       "      <td>1.0</td>\n",
       "      <td>1.193883</td>\n",
       "      <td>0.001662</td>\n",
       "      <td>-0.681068</td>\n",
       "      <td>-0.455310</td>\n",
       "      <td>...</td>\n",
       "      <td>0.206912</td>\n",
       "      <td>0.247156</td>\n",
       "      <td>0.843049</td>\n",
       "      <td>-0.692418</td>\n",
       "      <td>0.0</td>\n",
       "      <td>111.0</td>\n",
       "      <td>0.004318</td>\n",
       "      <td>0.001327</td>\n",
       "      <td>0.001761</td>\n",
       "      <td>0.006427</td>\n",
       "    </tr>\n",
       "    <tr>\n",
       "      <th>3</th>\n",
       "      <td>55</td>\n",
       "      <td>24</td>\n",
       "      <td>38</td>\n",
       "      <td>1</td>\n",
       "      <td>3</td>\n",
       "      <td>1.0</td>\n",
       "      <td>1.199528</td>\n",
       "      <td>0.002478</td>\n",
       "      <td>0.269097</td>\n",
       "      <td>0.540675</td>\n",
       "      <td>...</td>\n",
       "      <td>0.284127</td>\n",
       "      <td>0.314573</td>\n",
       "      <td>0.912003</td>\n",
       "      <td>-0.707644</td>\n",
       "      <td>0.0</td>\n",
       "      <td>111.0</td>\n",
       "      <td>0.005493</td>\n",
       "      <td>0.001175</td>\n",
       "      <td>0.001632</td>\n",
       "      <td>0.006605</td>\n",
       "    </tr>\n",
       "    <tr>\n",
       "      <th>4</th>\n",
       "      <td>55</td>\n",
       "      <td>24</td>\n",
       "      <td>38</td>\n",
       "      <td>2</td>\n",
       "      <td>3</td>\n",
       "      <td>1.0</td>\n",
       "      <td>1.181382</td>\n",
       "      <td>0.001811</td>\n",
       "      <td>0.280475</td>\n",
       "      <td>0.561034</td>\n",
       "      <td>...</td>\n",
       "      <td>0.114934</td>\n",
       "      <td>0.177283</td>\n",
       "      <td>0.045579</td>\n",
       "      <td>-0.505586</td>\n",
       "      <td>0.0</td>\n",
       "      <td>111.0</td>\n",
       "      <td>0.001120</td>\n",
       "      <td>0.002275</td>\n",
       "      <td>0.001994</td>\n",
       "      <td>0.001072</td>\n",
       "    </tr>\n",
       "  </tbody>\n",
       "</table>\n",
       "<p>5 rows × 156 columns</p>\n",
       "</div>"
      ],
      "text/plain": [
       "   __experiment__  __run__  __event__  __candidate__  __ncandidates__  \\\n",
       "0              55       24         15              0                1   \n",
       "1              55       24         25              0                1   \n",
       "2              55       24         38              0                3   \n",
       "3              55       24         38              1                3   \n",
       "4              55       24         38              2                3   \n",
       "\n",
       "   __weight__         M      ErrM        px        py      ...       gamma2_p  \\\n",
       "0         1.0  1.188481  0.002822 -0.838042 -0.153864      ...       0.119057   \n",
       "1         1.0  1.182631  0.003455  0.069550 -0.257039      ...       0.171491   \n",
       "2         1.0  1.193883  0.001662 -0.681068 -0.455310      ...       0.206912   \n",
       "3         1.0  1.199528  0.002478  0.269097  0.540675      ...       0.284127   \n",
       "4         1.0  1.181382  0.001811  0.280475  0.561034      ...       0.114934   \n",
       "\n",
       "   gamma2_E  gamma2_cosTheta  gamma2_phi  gamma2_charge  gamma2_PDG  \\\n",
       "0  0.179989         0.852160    1.070278            0.0       111.0   \n",
       "1  0.218238         0.163686    0.126749            0.0       111.0   \n",
       "2  0.247156         0.843049   -0.692418            0.0       111.0   \n",
       "3  0.314573         0.912003   -0.707644            0.0       111.0   \n",
       "4  0.177283         0.045579   -0.505586            0.0       111.0   \n",
       "\n",
       "   gamma2_E_uncertainty  gamma2_pxErr  gamma2_pyErr  gamma2_pzErr  \n",
       "0              0.001608      0.001318      0.004101      0.001159  \n",
       "1              0.003214      0.004156      0.001342      0.000968  \n",
       "2              0.004318      0.001327      0.001761      0.006427  \n",
       "3              0.005493      0.001175      0.001632      0.006605  \n",
       "4              0.001120      0.002275      0.001994      0.001072  \n",
       "\n",
       "[5 rows x 156 columns]"
      ]
     },
     "execution_count": 101,
     "metadata": {},
     "output_type": "execute_result"
    }
   ],
   "source": [
    "sigma.head()"
   ]
  },
  {
   "cell_type": "code",
   "execution_count": 102,
   "metadata": {},
   "outputs": [
    {
     "data": {
      "text/plain": [
       "136638"
      ]
     },
     "execution_count": 102,
     "metadata": {},
     "output_type": "execute_result"
    }
   ],
   "source": [
    "len(sigma)"
   ]
  },
  {
   "cell_type": "code",
   "execution_count": 103,
   "metadata": {},
   "outputs": [
    {
     "data": {
      "text/html": [
       "<div>\n",
       "<style scoped>\n",
       "    .dataframe tbody tr th:only-of-type {\n",
       "        vertical-align: middle;\n",
       "    }\n",
       "\n",
       "    .dataframe tbody tr th {\n",
       "        vertical-align: top;\n",
       "    }\n",
       "\n",
       "    .dataframe thead th {\n",
       "        text-align: right;\n",
       "    }\n",
       "</style>\n",
       "<table border=\"1\" class=\"dataframe\">\n",
       "  <thead>\n",
       "    <tr style=\"text-align: right;\">\n",
       "      <th></th>\n",
       "      <th>__experiment__</th>\n",
       "      <th>__run__</th>\n",
       "      <th>__event__</th>\n",
       "    </tr>\n",
       "  </thead>\n",
       "  <tbody>\n",
       "    <tr>\n",
       "      <th>0</th>\n",
       "      <td>55</td>\n",
       "      <td>24</td>\n",
       "      <td>15</td>\n",
       "    </tr>\n",
       "    <tr>\n",
       "      <th>1</th>\n",
       "      <td>55</td>\n",
       "      <td>24</td>\n",
       "      <td>25</td>\n",
       "    </tr>\n",
       "    <tr>\n",
       "      <th>2</th>\n",
       "      <td>55</td>\n",
       "      <td>24</td>\n",
       "      <td>38</td>\n",
       "    </tr>\n",
       "    <tr>\n",
       "      <th>5</th>\n",
       "      <td>55</td>\n",
       "      <td>24</td>\n",
       "      <td>86</td>\n",
       "    </tr>\n",
       "    <tr>\n",
       "      <th>7</th>\n",
       "      <td>55</td>\n",
       "      <td>24</td>\n",
       "      <td>87</td>\n",
       "    </tr>\n",
       "  </tbody>\n",
       "</table>\n",
       "</div>"
      ],
      "text/plain": [
       "   __experiment__  __run__  __event__\n",
       "0              55       24         15\n",
       "1              55       24         25\n",
       "2              55       24         38\n",
       "5              55       24         86\n",
       "7              55       24         87"
      ]
     },
     "execution_count": 103,
     "metadata": {},
     "output_type": "execute_result"
    }
   ],
   "source": [
    "unique_events = sigma[['__experiment__', '__run__', '__event__']].drop_duplicates()\n",
    "unique_events.head()"
   ]
  },
  {
   "cell_type": "code",
   "execution_count": 104,
   "metadata": {},
   "outputs": [
    {
     "data": {
      "text/plain": [
       "86029"
      ]
     },
     "execution_count": 104,
     "metadata": {},
     "output_type": "execute_result"
    }
   ],
   "source": [
    "len(unique_events)"
   ]
  },
  {
   "cell_type": "code",
   "execution_count": 105,
   "metadata": {},
   "outputs": [
    {
     "data": {
      "text/plain": [
       "count    86029.000000\n",
       "mean         1.475619\n",
       "std          0.939343\n",
       "min          1.000000\n",
       "25%          1.000000\n",
       "50%          1.000000\n",
       "75%          2.000000\n",
       "max         17.000000\n",
       "Name: __ncandidates__, dtype: float64"
      ]
     },
     "execution_count": 105,
     "metadata": {},
     "output_type": "execute_result"
    }
   ],
   "source": [
    "sigma.iloc[unique_events.index].__ncandidates__.describe()"
   ]
  },
  {
   "cell_type": "code",
   "execution_count": 106,
   "metadata": {},
   "outputs": [
    {
     "data": {
      "image/png": "[encoded data removed]",
      "text/plain": [
       "<Figure size 576x432 with 1 Axes>"
      ]
     },
     "metadata": {
      "needs_background": "light"
     },
     "output_type": "display_data"
    }
   ],
   "source": [
    "plt.hist(sigma.iloc[unique_events.index].__ncandidates__, bins = range(0, 10), histtype = 'step')\n",
    "plt.title('Number of Simga+ candidates per event')\n",
    "plt.show()"
   ]
  },
  {
   "cell_type": "markdown",
   "metadata": {},
   "source": [
    "## $\\Sigma^+$ and $\\pi^0$ mass distribution"
   ]
  },
  {
   "cell_type": "code",
   "execution_count": 107,
   "metadata": {},
   "outputs": [
    {
     "data": {
      "text/plain": [
       "<Particle \"Sigma+\" mass=1.18937 width=0 charge=1 pdg=3222>"
      ]
     },
     "execution_count": 107,
     "metadata": {},
     "output_type": "execute_result"
    }
   ],
   "source": [
    "pdg.get('Sigma+')"
   ]
  },
  {
   "cell_type": "code",
   "execution_count": 108,
   "metadata": {},
   "outputs": [
    {
     "data": {
      "image/png": "[encoded data removed]",
      "text/plain": [
       "<Figure size 576x432 with 1 Axes>"
      ]
     },
     "metadata": {
      "needs_background": "light"
     },
     "output_type": "display_data"
    }
   ],
   "source": [
    "plt.hist(sigma[sigma.isSignal == 0].M, range = [1.15, 1.25], histtype = 'step', label = '$\\Sigma^+$ not matched')\n",
    "plt.hist(sigma[sigma.isSignal == 1].M, range = [1.15, 1.25], histtype = 'step', label = '$\\Sigma^+$ matched')\n",
    "plt.axvline(x = 1.18937, color = 'red', linestyle = '--')\n",
    "plt.legend()\n",
    "plt.xlabel('Mass (GeV)')\n",
    "plt.title('$\\Sigma^+$ mass')\n",
    "plt.show()"
   ]
  },
  {
   "cell_type": "code",
   "execution_count": 109,
   "metadata": {},
   "outputs": [
    {
     "data": {
      "image/png": "[encoded data removed]",
      "text/plain": [
       "<Figure size 576x432 with 1 Axes>"
      ]
     },
     "metadata": {
      "needs_background": "light"
     },
     "output_type": "display_data"
    }
   ],
   "source": [
    "plt.hist(sigma[sigma.isSignal == 1].cosa, bins = 100, label = 'sig', histtype = 'step', density = True)\n",
    "plt.hist(sigma[sigma.isSignal == 0].cosa, bins = 100, label = 'bkg', histtype = 'step', density = True)\n",
    "plt.legend(loc = 'lower right')\n",
    "plt.title('cosa distribution of $\\Sigma^+$')\n",
    "plt.xlabel('cosa')\n",
    "plt.yscale('log')\n",
    "plt.show()"
   ]
  },
  {
   "cell_type": "code",
   "execution_count": 110,
   "metadata": {},
   "outputs": [
    {
     "data": {
      "text/plain": [
       "<Particle \"pi0\" mass=0.134977 width=0 charge=0 pdg=111>"
      ]
     },
     "execution_count": 110,
     "metadata": {},
     "output_type": "execute_result"
    }
   ],
   "source": [
    "pdg.get('pi0')"
   ]
  },
  {
   "cell_type": "code",
   "execution_count": 111,
   "metadata": {},
   "outputs": [
    {
     "data": {
      "image/png": "[encoded data removed]",
      "text/plain": [
       "<Figure size 576x432 with 1 Axes>"
      ]
     },
     "metadata": {
      "needs_background": "light"
     },
     "output_type": "display_data"
    }
   ],
   "source": [
    "plt.hist(sigma.pi0_M, range = [.1, .17], histtype = 'step', label = 'all')\n",
    "plt.hist(sigma[sigma.pi0_isSignal == 1].pi0_M, range = [.1, .17], histtype = 'step', label = '$\\pi^0$ matched')\n",
    "plt.axvline(x = 0.134977, color = 'red', linestyle = '--')\n",
    "plt.legend()\n",
    "plt.xlabel('Mass (GeV)')\n",
    "plt.title('$\\pi^0$ mass')\n",
    "plt.show()"
   ]
  },
  {
   "cell_type": "code",
   "execution_count": null,
   "metadata": {},
   "outputs": [],
   "source": []
  },
  {
   "cell_type": "code",
   "execution_count": 112,
   "metadata": {},
   "outputs": [
    {
     "data": {
      "text/plain": [
       "count    136638.000000\n",
       "mean          0.154196\n",
       "std           0.361138\n",
       "min           0.000000\n",
       "25%           0.000000\n",
       "50%           0.000000\n",
       "75%           0.000000\n",
       "max           1.000000\n",
       "Name: pi0_isSignal, dtype: float64"
      ]
     },
     "execution_count": 112,
     "metadata": {},
     "output_type": "execute_result"
    }
   ],
   "source": [
    "sigma.pi0_isSignal.describe()"
   ]
  },
  {
   "cell_type": "markdown",
   "metadata": {},
   "source": [
    "## Vertex position of $\\Sigma^+$"
   ]
  },
  {
   "cell_type": "code",
   "execution_count": 113,
   "metadata": {},
   "outputs": [
    {
     "data": {
      "image/png": "[encoded data removed]",
      "text/plain": [
       "<Figure size 576x432 with 1 Axes>"
      ]
     },
     "metadata": {
      "needs_background": "light"
     },
     "output_type": "display_data"
    }
   ],
   "source": [
    "plt.hist(sigma.x - sigma.IPX, bins = 100, range = [-5, 5], histtype = 'step', label = 'dx')\n",
    "plt.hist(sigma.z - sigma.IPZ, bins = 100, range = [-5, 5], histtype = 'step', label = 'dz')\n",
    "plt.title('$\\Sigma^+$ vertex position relative to IP')\n",
    "plt.xlabel('Distance to IP (cm)')\n",
    "plt.legend()\n",
    "plt.show()"
   ]
  },
  {
   "cell_type": "markdown",
   "metadata": {},
   "source": [
    "## Vertex position of $\\pi^0$"
   ]
  },
  {
   "cell_type": "markdown",
   "metadata": {},
   "source": [
    "The vertex positions of $\\pi^0$ and $\\Sigma^+$ are the same as expected."
   ]
  },
  {
   "cell_type": "code",
   "execution_count": 114,
   "metadata": {},
   "outputs": [
    {
     "data": {
      "image/png": "[encoded data removed]",
      "text/plain": [
       "<Figure size 576x432 with 1 Axes>"
      ]
     },
     "metadata": {
      "needs_background": "light"
     },
     "output_type": "display_data"
    }
   ],
   "source": [
    "plt.hist(sigma.pi0_x - sigma.x, bins = 100, range = [-5, 5], histtype = 'step', label = 'dx')\n",
    "plt.hist(sigma.pi0_z - sigma.z, bins = 100, range = [-5, 5], histtype = 'step', label = 'dz')\n",
    "plt.title('$\\pi^0$ vertex position relative to $\\Sigma^+$')\n",
    "plt.xlabel('Distance (cm)')\n",
    "plt.legend()\n",
    "plt.show()"
   ]
  },
  {
   "cell_type": "markdown",
   "metadata": {},
   "source": [
    "## What are the particles reconstructed as $\\Sigma^+$?"
   ]
  },
  {
   "cell_type": "code",
   "execution_count": 115,
   "metadata": {},
   "outputs": [],
   "source": [
    "def pdg_to_names(plist):\n",
    "    import pdg\n",
    "    name_list = []\n",
    "    for part in plist:\n",
    "        try:\n",
    "            name_list += [pdg.to_name(part)]\n",
    "        except:\n",
    "            name_list += ['PDG = %d' % part]\n",
    "    return name_list\n",
    "\n",
    "def plot_particle_names(df, title = ''):\n",
    "    df = df.value_counts().nlargest(20)\n",
    "    df.index = pdg_to_names(df.index.astype('int'))\n",
    "    df.plot('barh', log = True, figsize = (8, 8))\n",
    "    plt.title(title)"
   ]
  },
  {
   "cell_type": "code",
   "execution_count": 116,
   "metadata": {},
   "outputs": [
    {
     "data": {
      "image/png": "[encoded data removed]",
      "text/plain": [
       "<Figure size 576x576 with 1 Axes>"
      ]
     },
     "metadata": {
      "needs_background": "light"
     },
     "output_type": "display_data"
    }
   ],
   "source": [
    "plot_particle_names(sigma[sigma.p>1].mcPDG, 'Particles matched to $\\Sigma+$')"
   ]
  },
  {
   "cell_type": "code",
   "execution_count": 117,
   "metadata": {},
   "outputs": [
    {
     "data": {
      "text/plain": [
       "<Particle \"Upsilon(4S)\" mass=10.5794 width=0.0205 charge=0 pdg=300553>"
      ]
     },
     "execution_count": 117,
     "metadata": {},
     "output_type": "execute_result"
    }
   ],
   "source": [
    "pdg.get('Upsilon(4S)')"
   ]
  },
  {
   "cell_type": "code",
   "execution_count": null,
   "metadata": {},
   "outputs": [],
   "source": []
  }
 ],
 "metadata": {
  "kernelspec": {
   "display_name": "Python 3 (Belle2)",
   "language": "python",
   "name": "python3"
  },
  "language_info": {
   "codemirror_mode": {
    "name": "ipython",
    "version": 3
   },
   "file_extension": ".py",
   "mimetype": "text/x-python",
   "name": "python",
   "nbconvert_exporter": "python",
   "pygments_lexer": "ipython3",
   "version": "3.6.6"
  }
 },
 "nbformat": 4,
 "nbformat_minor": 4
}

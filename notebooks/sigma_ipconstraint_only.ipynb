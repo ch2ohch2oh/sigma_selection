{
 "cells": [
  {
   "cell_type": "markdown",
   "metadata": {},
   "source": [
    "# $\\Sigma^+$ reconstruction with IP constraint only"
   ]
  },
  {
   "cell_type": "markdown",
   "metadata": {},
   "source": [
    "## Cuts\n",
    "- PID cut on proton and keep only protons with impact parameter larger than 0.01 cm.\n",
    "- Keep only $\\Sigma^+$ in mass range 1.18 ~ 1.20 GeV.\n",
    "- IP constriant on $\\Sigma^+$ vertex."
   ]
  },
  {
   "cell_type": "markdown",
   "metadata": {},
   "source": [
    "## Code snapshot\n",
    "```\n",
    "ma.fillParticleList('p+:good', 'pid_ppi > 0.6 and pid_pk > 0.6 and abs(d0) >= 0.01', path = mp)\n",
    "ma.reconstructDecay('Sigma+:all -> p+:good pi0:mdst', \n",
    "                    'M >= 1.18 and M <= 1.20', path = mp)\n",
    "ma.vertexTree('Sigma+:all', 0, ipConstraint = True, massConstraint = [],\n",
    "              updateAllDaughters = True, path = mp)\n",
    "ma.matchMCTruth('Sigma+:all', path = mp)\n",
    "mp.add_module('VariablesToNtuple', particleList='Sigma+:all', variables=list_ntuple,\n",
    "              treeName='sigma', fileName=sys.argv[2])\n",
    "```"
   ]
  },
  {
   "cell_type": "code",
   "execution_count": 7,
   "metadata": {},
   "outputs": [],
   "source": [
    "from root_pandas import read_root\n",
    "import matplotlib.pyplot as plt\n",
    "import numpy as np\n",
    "import pandas as pd\n",
    "import pdg\n",
    "import seaborn as sns\n",
    "import glob"
   ]
  },
  {
   "cell_type": "code",
   "execution_count": 4,
   "metadata": {},
   "outputs": [],
   "source": [
    "plt.rc('figure', figsize = (8, 6))\n",
    "plt.rc('font', size = 13)\n",
    "plt.rc('hist', bins = 200)"
   ]
  },
  {
   "cell_type": "code",
   "execution_count": 6,
   "metadata": {},
   "outputs": [
    {
     "name": "stdout",
     "output_type": "stream",
     "text": [
      "100 root files found\n",
      "CPU times: user 1min 43s, sys: 1min 10s, total: 2min 53s\n",
      "Wall time: 2min 59s\n"
     ]
    }
   ],
   "source": [
    "root_files = glob.glob('../data/sigma_ipconstraint_only/*.root')\n",
    "print(\"%d root files found\" % len(root_files))\n",
    "#columns = ['M', 'pi0_M', 'isSignal', 'p_d0', 'p_z0', 'pi0_p', 'p', 'dr', 'dz', 'pi0_isSignal', 'chiProb']\n",
    "%time sigma = read_root(root_files, 'sigma')"
   ]
  },
  {
   "cell_type": "code",
   "execution_count": 8,
   "metadata": {},
   "outputs": [
    {
     "data": {
      "text/html": [
       "<div>\n",
       "<style scoped>\n",
       "    .dataframe tbody tr th:only-of-type {\n",
       "        vertical-align: middle;\n",
       "    }\n",
       "\n",
       "    .dataframe tbody tr th {\n",
       "        vertical-align: top;\n",
       "    }\n",
       "\n",
       "    .dataframe thead th {\n",
       "        text-align: right;\n",
       "    }\n",
       "</style>\n",
       "<table border=\"1\" class=\"dataframe\">\n",
       "  <thead>\n",
       "    <tr style=\"text-align: right;\">\n",
       "      <th></th>\n",
       "      <th>__experiment__</th>\n",
       "      <th>__run__</th>\n",
       "      <th>__event__</th>\n",
       "      <th>__candidate__</th>\n",
       "      <th>__ncandidates__</th>\n",
       "      <th>__weight__</th>\n",
       "      <th>M</th>\n",
       "      <th>ErrM</th>\n",
       "      <th>px</th>\n",
       "      <th>py</th>\n",
       "      <th>...</th>\n",
       "      <th>pi0_cosaXY</th>\n",
       "      <th>pi0_isSignal</th>\n",
       "      <th>pi0_isPrimarySignal</th>\n",
       "      <th>pi0_mcErrors</th>\n",
       "      <th>pi0_mcPDG</th>\n",
       "      <th>pi0_genMotherID</th>\n",
       "      <th>pi0_genMotherP</th>\n",
       "      <th>pi0_genMotherPDG</th>\n",
       "      <th>pi0_genParticleID</th>\n",
       "      <th>pi0_nMCMatches</th>\n",
       "    </tr>\n",
       "  </thead>\n",
       "  <tbody>\n",
       "    <tr>\n",
       "      <th>0</th>\n",
       "      <td>55</td>\n",
       "      <td>24</td>\n",
       "      <td>5</td>\n",
       "      <td>0</td>\n",
       "      <td>2</td>\n",
       "      <td>1.0</td>\n",
       "      <td>1.219826</td>\n",
       "      <td>0.004326</td>\n",
       "      <td>0.437431</td>\n",
       "      <td>-0.492119</td>\n",
       "      <td>...</td>\n",
       "      <td>-0.975032</td>\n",
       "      <td>0.0</td>\n",
       "      <td>0.0</td>\n",
       "      <td>1339.0</td>\n",
       "      <td>300553.0</td>\n",
       "      <td>0.0</td>\n",
       "      <td>0.000000</td>\n",
       "      <td>0.0</td>\n",
       "      <td>0.0</td>\n",
       "      <td>1.0</td>\n",
       "    </tr>\n",
       "    <tr>\n",
       "      <th>1</th>\n",
       "      <td>55</td>\n",
       "      <td>24</td>\n",
       "      <td>5</td>\n",
       "      <td>1</td>\n",
       "      <td>2</td>\n",
       "      <td>1.0</td>\n",
       "      <td>1.210075</td>\n",
       "      <td>0.004558</td>\n",
       "      <td>0.428146</td>\n",
       "      <td>-0.486382</td>\n",
       "      <td>...</td>\n",
       "      <td>-0.987499</td>\n",
       "      <td>0.0</td>\n",
       "      <td>0.0</td>\n",
       "      <td>1331.0</td>\n",
       "      <td>521.0</td>\n",
       "      <td>0.0</td>\n",
       "      <td>4.506553</td>\n",
       "      <td>300553.0</td>\n",
       "      <td>1.0</td>\n",
       "      <td>1.0</td>\n",
       "    </tr>\n",
       "    <tr>\n",
       "      <th>2</th>\n",
       "      <td>55</td>\n",
       "      <td>24</td>\n",
       "      <td>25</td>\n",
       "      <td>0</td>\n",
       "      <td>3</td>\n",
       "      <td>1.0</td>\n",
       "      <td>1.183689</td>\n",
       "      <td>0.003545</td>\n",
       "      <td>0.042026</td>\n",
       "      <td>-0.246864</td>\n",
       "      <td>...</td>\n",
       "      <td>0.042527</td>\n",
       "      <td>0.0</td>\n",
       "      <td>0.0</td>\n",
       "      <td>438.0</td>\n",
       "      <td>521.0</td>\n",
       "      <td>0.0</td>\n",
       "      <td>4.492920</td>\n",
       "      <td>300553.0</td>\n",
       "      <td>1.0</td>\n",
       "      <td>1.0</td>\n",
       "    </tr>\n",
       "    <tr>\n",
       "      <th>3</th>\n",
       "      <td>55</td>\n",
       "      <td>24</td>\n",
       "      <td>25</td>\n",
       "      <td>1</td>\n",
       "      <td>3</td>\n",
       "      <td>1.0</td>\n",
       "      <td>1.178932</td>\n",
       "      <td>0.003817</td>\n",
       "      <td>-0.113185</td>\n",
       "      <td>-0.193152</td>\n",
       "      <td>...</td>\n",
       "      <td>0.142311</td>\n",
       "      <td>1.0</td>\n",
       "      <td>0.0</td>\n",
       "      <td>0.0</td>\n",
       "      <td>111.0</td>\n",
       "      <td>18.0</td>\n",
       "      <td>0.035264</td>\n",
       "      <td>-321.0</td>\n",
       "      <td>39.0</td>\n",
       "      <td>1.0</td>\n",
       "    </tr>\n",
       "    <tr>\n",
       "      <th>4</th>\n",
       "      <td>55</td>\n",
       "      <td>24</td>\n",
       "      <td>25</td>\n",
       "      <td>2</td>\n",
       "      <td>3</td>\n",
       "      <td>1.0</td>\n",
       "      <td>1.167514</td>\n",
       "      <td>0.005387</td>\n",
       "      <td>-0.079662</td>\n",
       "      <td>-0.556225</td>\n",
       "      <td>...</td>\n",
       "      <td>-0.921026</td>\n",
       "      <td>0.0</td>\n",
       "      <td>0.0</td>\n",
       "      <td>314.0</td>\n",
       "      <td>300553.0</td>\n",
       "      <td>0.0</td>\n",
       "      <td>0.000000</td>\n",
       "      <td>0.0</td>\n",
       "      <td>0.0</td>\n",
       "      <td>1.0</td>\n",
       "    </tr>\n",
       "  </tbody>\n",
       "</table>\n",
       "<p>5 rows × 132 columns</p>\n",
       "</div>"
      ],
      "text/plain": [
       "   __experiment__  __run__  __event__  __candidate__  __ncandidates__  \\\n",
       "0              55       24          5              0                2   \n",
       "1              55       24          5              1                2   \n",
       "2              55       24         25              0                3   \n",
       "3              55       24         25              1                3   \n",
       "4              55       24         25              2                3   \n",
       "\n",
       "   __weight__         M      ErrM        px        py       ...        \\\n",
       "0         1.0  1.219826  0.004326  0.437431 -0.492119       ...         \n",
       "1         1.0  1.210075  0.004558  0.428146 -0.486382       ...         \n",
       "2         1.0  1.183689  0.003545  0.042026 -0.246864       ...         \n",
       "3         1.0  1.178932  0.003817 -0.113185 -0.193152       ...         \n",
       "4         1.0  1.167514  0.005387 -0.079662 -0.556225       ...         \n",
       "\n",
       "   pi0_cosaXY  pi0_isSignal  pi0_isPrimarySignal  pi0_mcErrors  pi0_mcPDG  \\\n",
       "0   -0.975032           0.0                  0.0        1339.0   300553.0   \n",
       "1   -0.987499           0.0                  0.0        1331.0      521.0   \n",
       "2    0.042527           0.0                  0.0         438.0      521.0   \n",
       "3    0.142311           1.0                  0.0           0.0      111.0   \n",
       "4   -0.921026           0.0                  0.0         314.0   300553.0   \n",
       "\n",
       "   pi0_genMotherID  pi0_genMotherP  pi0_genMotherPDG  pi0_genParticleID  \\\n",
       "0              0.0        0.000000               0.0                0.0   \n",
       "1              0.0        4.506553          300553.0                1.0   \n",
       "2              0.0        4.492920          300553.0                1.0   \n",
       "3             18.0        0.035264            -321.0               39.0   \n",
       "4              0.0        0.000000               0.0                0.0   \n",
       "\n",
       "   pi0_nMCMatches  \n",
       "0             1.0  \n",
       "1             1.0  \n",
       "2             1.0  \n",
       "3             1.0  \n",
       "4             1.0  \n",
       "\n",
       "[5 rows x 132 columns]"
      ]
     },
     "execution_count": 8,
     "metadata": {},
     "output_type": "execute_result"
    }
   ],
   "source": [
    "sigma.head()"
   ]
  },
  {
   "cell_type": "code",
   "execution_count": 9,
   "metadata": {},
   "outputs": [
    {
     "data": {
      "text/plain": [
       "5760542"
      ]
     },
     "execution_count": 9,
     "metadata": {},
     "output_type": "execute_result"
    }
   ],
   "source": [
    "len(sigma)"
   ]
  },
  {
   "cell_type": "code",
   "execution_count": 10,
   "metadata": {},
   "outputs": [
    {
     "data": {
      "text/html": [
       "<div>\n",
       "<style scoped>\n",
       "    .dataframe tbody tr th:only-of-type {\n",
       "        vertical-align: middle;\n",
       "    }\n",
       "\n",
       "    .dataframe tbody tr th {\n",
       "        vertical-align: top;\n",
       "    }\n",
       "\n",
       "    .dataframe thead th {\n",
       "        text-align: right;\n",
       "    }\n",
       "</style>\n",
       "<table border=\"1\" class=\"dataframe\">\n",
       "  <thead>\n",
       "    <tr style=\"text-align: right;\">\n",
       "      <th></th>\n",
       "      <th>__experiment__</th>\n",
       "      <th>__run__</th>\n",
       "      <th>__event__</th>\n",
       "    </tr>\n",
       "  </thead>\n",
       "  <tbody>\n",
       "    <tr>\n",
       "      <th>0</th>\n",
       "      <td>55</td>\n",
       "      <td>24</td>\n",
       "      <td>5</td>\n",
       "    </tr>\n",
       "    <tr>\n",
       "      <th>2</th>\n",
       "      <td>55</td>\n",
       "      <td>24</td>\n",
       "      <td>25</td>\n",
       "    </tr>\n",
       "    <tr>\n",
       "      <th>5</th>\n",
       "      <td>55</td>\n",
       "      <td>24</td>\n",
       "      <td>27</td>\n",
       "    </tr>\n",
       "    <tr>\n",
       "      <th>6</th>\n",
       "      <td>55</td>\n",
       "      <td>24</td>\n",
       "      <td>32</td>\n",
       "    </tr>\n",
       "    <tr>\n",
       "      <th>8</th>\n",
       "      <td>55</td>\n",
       "      <td>24</td>\n",
       "      <td>38</td>\n",
       "    </tr>\n",
       "  </tbody>\n",
       "</table>\n",
       "</div>"
      ],
      "text/plain": [
       "   __experiment__  __run__  __event__\n",
       "0              55       24          5\n",
       "2              55       24         25\n",
       "5              55       24         27\n",
       "6              55       24         32\n",
       "8              55       24         38"
      ]
     },
     "execution_count": 10,
     "metadata": {},
     "output_type": "execute_result"
    }
   ],
   "source": [
    "unique_events = sigma[['__experiment__', '__run__', '__event__']].drop_duplicates()\n",
    "unique_events.head()"
   ]
  },
  {
   "cell_type": "code",
   "execution_count": 11,
   "metadata": {},
   "outputs": [
    {
     "data": {
      "text/plain": [
       "1096565"
      ]
     },
     "execution_count": 11,
     "metadata": {},
     "output_type": "execute_result"
    }
   ],
   "source": [
    "len(unique_events)"
   ]
  },
  {
   "cell_type": "code",
   "execution_count": 12,
   "metadata": {},
   "outputs": [
    {
     "data": {
      "text/plain": [
       "count    1.096565e+06\n",
       "mean     4.239105e+00\n",
       "std      4.180718e+00\n",
       "min      1.000000e+00\n",
       "25%      1.000000e+00\n",
       "50%      3.000000e+00\n",
       "75%      5.000000e+00\n",
       "max      1.020000e+02\n",
       "Name: __ncandidates__, dtype: float64"
      ]
     },
     "execution_count": 12,
     "metadata": {},
     "output_type": "execute_result"
    }
   ],
   "source": [
    "sigma.iloc[unique_events.index].__ncandidates__.describe()"
   ]
  },
  {
   "cell_type": "code",
   "execution_count": 13,
   "metadata": {},
   "outputs": [
    {
     "data": {
      "image/png": "[encoded data removed]",
      "text/plain": [
       "<Figure size 576x432 with 1 Axes>"
      ]
     },
     "metadata": {
      "needs_background": "light"
     },
     "output_type": "display_data"
    }
   ],
   "source": [
    "plt.hist(sigma.iloc[unique_events.index].__ncandidates__, bins = range(0, 25), histtype = 'step')\n",
    "plt.title('Number of Simga+ candidates per event')\n",
    "plt.show()"
   ]
  },
  {
   "cell_type": "markdown",
   "metadata": {},
   "source": [
    "## $\\Sigma^+$ and $\\pi^0$ mass distribution"
   ]
  },
  {
   "cell_type": "code",
   "execution_count": 14,
   "metadata": {},
   "outputs": [
    {
     "data": {
      "text/plain": [
       "<Particle \"Sigma+\" mass=1.18937 width=0 charge=1 pdg=3222>"
      ]
     },
     "execution_count": 14,
     "metadata": {},
     "output_type": "execute_result"
    }
   ],
   "source": [
    "pdg.get('Sigma+')"
   ]
  },
  {
   "cell_type": "code",
   "execution_count": 15,
   "metadata": {},
   "outputs": [
    {
     "data": {
      "image/png": "[encoded data removed]",
      "text/plain": [
       "<Figure size 576x432 with 1 Axes>"
      ]
     },
     "metadata": {
      "needs_background": "light"
     },
     "output_type": "display_data"
    }
   ],
   "source": [
    "plt.hist(sigma.M, range = [1, 1.4], histtype = 'step', label = 'all')\n",
    "plt.hist(sigma[sigma.isSignal == 1].M, range = [1, 1.4], histtype = 'step', label = '$\\Sigma^+$ matched')\n",
    "# plt.hist(sigma[(sigma.pi0_M >= 0.12) & (sigma.pi0_M < 0.15)].M, range = [1, 1.4], histtype = 'step', label = '$\\Sigma^+$ with good $\\pi^0$')\n",
    "plt.axvline(x = 1.18937, color = 'red', linestyle = '--')\n",
    "plt.legend()\n",
    "plt.xlabel('Mass (GeV)')\n",
    "plt.title('$\\Sigma^+$ mass')\n",
    "plt.show()"
   ]
  },
  {
   "cell_type": "code",
   "execution_count": 16,
   "metadata": {},
   "outputs": [
    {
     "data": {
      "text/plain": [
       "<Particle \"pi0\" mass=0.134977 width=0 charge=0 pdg=111>"
      ]
     },
     "execution_count": 16,
     "metadata": {},
     "output_type": "execute_result"
    }
   ],
   "source": [
    "pdg.get('pi0')"
   ]
  },
  {
   "cell_type": "code",
   "execution_count": 17,
   "metadata": {},
   "outputs": [
    {
     "data": {
      "image/png": "[encoded data removed]",
      "text/plain": [
       "<Figure size 576x432 with 1 Axes>"
      ]
     },
     "metadata": {
      "needs_background": "light"
     },
     "output_type": "display_data"
    }
   ],
   "source": [
    "plt.hist(sigma.pi0_M, range = [.1, .17], histtype = 'step', label = 'all')\n",
    "plt.hist(sigma[sigma.pi0_isSignal == 1].pi0_M, range = [.1, .17], histtype = 'step', label = '$\\pi^0$ matched')\n",
    "plt.axvline(x = 0.134977, color = 'red', linestyle = '--')\n",
    "plt.legend()\n",
    "plt.xlabel('Mass (GeV)')\n",
    "plt.title('$\\pi^0$ mass')\n",
    "plt.show()"
   ]
  },
  {
   "cell_type": "markdown",
   "metadata": {},
   "source": [
    "## Vertex position of $\\Sigma^+$"
   ]
  },
  {
   "cell_type": "code",
   "execution_count": 18,
   "metadata": {},
   "outputs": [
    {
     "data": {
      "image/png": "[encoded data removed]",
      "text/plain": [
       "<Figure size 576x432 with 1 Axes>"
      ]
     },
     "metadata": {
      "needs_background": "light"
     },
     "output_type": "display_data"
    }
   ],
   "source": [
    "plt.hist(sigma.x - sigma.IPX, bins = 100, range = [-5, 5], histtype = 'step', label = 'dx')\n",
    "plt.hist(sigma.z - sigma.IPZ, bins = 100, range = [-5, 5], histtype = 'step', label = 'dz')\n",
    "plt.title('$\\Sigma^+$ vertex position relative to IP')\n",
    "plt.xlabel('Distance to IP (cm)')\n",
    "plt.legend()\n",
    "plt.show()"
   ]
  },
  {
   "cell_type": "markdown",
   "metadata": {},
   "source": [
    "## Vertex position of $\\pi^0$"
   ]
  },
  {
   "cell_type": "markdown",
   "metadata": {},
   "source": [
    "The vertex positions of $\\pi^0$ and $\\Sigma^+$ are the same as expected."
   ]
  },
  {
   "cell_type": "code",
   "execution_count": 19,
   "metadata": {},
   "outputs": [
    {
     "data": {
      "image/png": "[encoded data removed]",
      "text/plain": [
       "<Figure size 576x432 with 1 Axes>"
      ]
     },
     "metadata": {
      "needs_background": "light"
     },
     "output_type": "display_data"
    }
   ],
   "source": [
    "plt.hist(sigma.pi0_x - sigma.x, bins = 100, range = [-5, 5], histtype = 'step', label = 'dx')\n",
    "plt.hist(sigma.pi0_z - sigma.z, bins = 100, range = [-5, 5], histtype = 'step', label = 'dz')\n",
    "plt.title('$\\pi^0$ vertex position relative to $\\Sigma^+$')\n",
    "plt.xlabel('Distance (cm)')\n",
    "plt.legend()\n",
    "plt.show()"
   ]
  },
  {
   "cell_type": "markdown",
   "metadata": {},
   "source": [
    "## What are the particles reconstructed as $\\Sigma^+$?"
   ]
  },
  {
   "cell_type": "code",
   "execution_count": 20,
   "metadata": {},
   "outputs": [],
   "source": [
    "def pdg_to_names(plist):\n",
    "    import pdg\n",
    "    name_list = []\n",
    "    for part in plist:\n",
    "        try:\n",
    "            name_list += [pdg.to_name(part)]\n",
    "        except:\n",
    "            name_list += ['PDG = %d' % part]\n",
    "    return name_list\n",
    "\n",
    "def plot_particle_names(df, title = ''):\n",
    "    df = df.value_counts().nlargest(20)\n",
    "    df.index = pdg_to_names(df.index.astype('int'))\n",
    "    df.plot('barh', log = True, figsize = (8, 8))\n",
    "    plt.title(title)"
   ]
  },
  {
   "cell_type": "code",
   "execution_count": 21,
   "metadata": {},
   "outputs": [
    {
     "data": {
      "image/png": "[encoded data removed]",
      "text/plain": [
       "<Figure size 576x576 with 1 Axes>"
      ]
     },
     "metadata": {
      "needs_background": "light"
     },
     "output_type": "display_data"
    }
   ],
   "source": [
    "plot_particle_names(sigma[sigma.distance > 2].mcPDG, 'Particles matched to $\\Sigma+$')"
   ]
  },
  {
   "cell_type": "code",
   "execution_count": null,
   "metadata": {},
   "outputs": [],
   "source": [
    "pdg.get('Upsilon(4S)')"
   ]
  },
  {
   "cell_type": "code",
   "execution_count": null,
   "metadata": {},
   "outputs": [],
   "source": []
  }
 ],
 "metadata": {
  "kernelspec": {
   "display_name": "Python 3 (Belle2)",
   "language": "python",
   "name": "python3"
  },
  "language_info": {
   "codemirror_mode": {
    "name": "ipython",
    "version": 3
   },
   "file_extension": ".py",
   "mimetype": "text/x-python",
   "name": "python",
   "nbconvert_exporter": "python",
   "pygments_lexer": "ipython3",
   "version": "3.6.6"
  }
 },
 "nbformat": 4,
 "nbformat_minor": 4
}
